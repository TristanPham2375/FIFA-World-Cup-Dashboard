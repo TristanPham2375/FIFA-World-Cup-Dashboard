{
 "cells": [
  {
   "cell_type": "code",
   "execution_count": null,
   "id": "2eea095d-62c0-4641-af1b-f2dc075f61de",
   "metadata": {},
   "outputs": [],
   "source": []
  },
  {
   "cell_type": "code",
   "execution_count": 44,
   "id": "d41ca72f-2584-4237-aded-e64f336a8d63",
   "metadata": {},
   "outputs": [],
   "source": [
    "import dash\n",
    "from dash import Dash, html, dcc, callback, Output, Input\n",
    "import plotly.express as px\n",
    "import pandas as pd\n",
    "import json"
   ]
  },
  {
   "cell_type": "code",
   "execution_count": 45,
   "id": "9f8efa57-df53-47e8-a3c9-70f4abce367c",
   "metadata": {},
   "outputs": [
    {
     "data": {
      "text/html": [
       "<div>\n",
       "<style scoped>\n",
       "    .dataframe tbody tr th:only-of-type {\n",
       "        vertical-align: middle;\n",
       "    }\n",
       "\n",
       "    .dataframe tbody tr th {\n",
       "        vertical-align: top;\n",
       "    }\n",
       "\n",
       "    .dataframe thead th {\n",
       "        text-align: right;\n",
       "    }\n",
       "</style>\n",
       "<table border=\"1\" class=\"dataframe\">\n",
       "  <thead>\n",
       "    <tr style=\"text-align: right;\">\n",
       "      <th></th>\n",
       "      <th>Year</th>\n",
       "      <th>Winners</th>\n",
       "      <th>Runners-up</th>\n",
       "      <th>Host</th>\n",
       "    </tr>\n",
       "  </thead>\n",
       "  <tbody>\n",
       "    <tr>\n",
       "      <th>0</th>\n",
       "      <td>1930</td>\n",
       "      <td>Uruguay</td>\n",
       "      <td>Argentina</td>\n",
       "      <td>Uruguay</td>\n",
       "    </tr>\n",
       "    <tr>\n",
       "      <th>1</th>\n",
       "      <td>1934</td>\n",
       "      <td>Italy</td>\n",
       "      <td>Czechoslovakia</td>\n",
       "      <td>Italy</td>\n",
       "    </tr>\n",
       "    <tr>\n",
       "      <th>2</th>\n",
       "      <td>1938</td>\n",
       "      <td>Italy</td>\n",
       "      <td>Hungary</td>\n",
       "      <td>France</td>\n",
       "    </tr>\n",
       "    <tr>\n",
       "      <th>3</th>\n",
       "      <td>1950</td>\n",
       "      <td>Uruguay</td>\n",
       "      <td>Brazil</td>\n",
       "      <td>Brazil</td>\n",
       "    </tr>\n",
       "    <tr>\n",
       "      <th>4</th>\n",
       "      <td>1954</td>\n",
       "      <td>Germany</td>\n",
       "      <td>Hungary</td>\n",
       "      <td>Switzerland</td>\n",
       "    </tr>\n",
       "  </tbody>\n",
       "</table>\n",
       "</div>"
      ],
      "text/plain": [
       "   Year  Winners      Runners-up         Host\n",
       "0  1930  Uruguay       Argentina      Uruguay\n",
       "1  1934    Italy  Czechoslovakia        Italy\n",
       "2  1938    Italy         Hungary       France\n",
       "3  1950  Uruguay          Brazil       Brazil\n",
       "4  1954  Germany         Hungary  Switzerland"
      ]
     },
     "execution_count": 45,
     "metadata": {},
     "output_type": "execute_result"
    }
   ],
   "source": [
    "df = pd.read_csv(r\"C:\\Users\\ADMIN\\Downloads\\CP 321 - Data Visualization\\WorldCup.csv\") #Change file path\n",
    "df.head()"
   ]
  },
  {
   "cell_type": "code",
   "execution_count": 59,
   "id": "fd1f275a-8cf6-42b4-a45f-21730bb94104",
   "metadata": {},
   "outputs": [
    {
     "data": {
      "text/html": [
       "\n",
       "        <iframe\n",
       "            width=\"100%\"\n",
       "            height=\"650\"\n",
       "            src=\"http://127.0.0.1:8050/\"\n",
       "            frameborder=\"0\"\n",
       "            allowfullscreen\n",
       "            \n",
       "        ></iframe>\n",
       "        "
      ],
      "text/plain": [
       "<IPython.lib.display.IFrame at 0x1b459218d70>"
      ]
     },
     "metadata": {},
     "output_type": "display_data"
    }
   ],
   "source": [
    "df = pd.read_csv(r\"C:\\Users\\ADMIN\\Downloads\\CP 321 - Data Visualization\\WorldCup.csv\") #Change file path\n",
    "\n",
    "win_counts = df[\"Winners\"].value_counts().reset_index()\n",
    "win_counts.columns = [\"Country\", \"Wins\"]\n",
    "win_counts[\"Wins\"] = win_counts[\"Wins\"].astype(str)\n",
    "win_counts[\"Country\"] = win_counts[\"Country\"].replace(\"England\", \"United Kingdom\")\n",
    "\n",
    "color_scale = {\n",
    "    \"1\": \"blue\",\n",
    "    \"2\": \"green\",\n",
    "    \"3\": \"yellow\",\n",
    "    \"4\": \"orange\",\n",
    "    \"5\": \"red\"\n",
    "}\n",
    "\n",
    "fig = px.choropleth(\n",
    "    win_counts,\n",
    "    locations=\"Country\",\n",
    "    locationmode=\"country names\",\n",
    "    color=\"Wins\",\n",
    "    color_discrete_map=color_scale,\n",
    "    title=\"Countries That Have Won the FIFA World Cup\"\n",
    ")\n",
    "\n",
    "app = dash.Dash(__name__)\n",
    "\n",
    "app.layout = html.Div([\n",
    "    html.H1(\"World Cup Winners Dashboard\"),\n",
    "\n",
    "    html.Label(\"Select a Year:\"),\n",
    "    dcc.Dropdown(\n",
    "        id=\"year-dropdown\",\n",
    "        options=[{\"label\": year, \"value\": year} for year in df[\"Year\"].unique()],\n",
    "        value=df[\"Year\"].min(),\n",
    "        clearable=False\n",
    "    ),\n",
    "    \n",
    "    html.Div(\n",
    "        id=\"winner-runnerup-output\", \n",
    "        style={\"margin-top\": \"20px\", \n",
    "               \"font-size\": \"18px\"}),\n",
    "    \n",
    "    dcc.Graph(figure=fig)\n",
    "])\n",
    "\n",
    "@app.callback(\n",
    "    Output(\"winner-runnerup-output\", \"children\"),\n",
    "    Input(\"year-dropdown\", \"value\")\n",
    ")\n",
    "\n",
    "def update_winner_runnersup(year):\n",
    "    row = df[df[\"Year\"] == year].iloc[0]\n",
    "    winner = row[\"Winners\"]\n",
    "    runner_up = row[\"Runners-up\"]\n",
    "    return html.Span([\n",
    "        html.B(f\"In {year}, \"),\n",
    "        html.Span(f\"{winner} \", style={\"color\": \"red\", \"font-weight\": \"bold\"}),\n",
    "        \"won the World Cup and \",\n",
    "        html.Span(f\"{runner_up} \", style={\"color\": \"blue\", \"font-weight\": \"bold\"}),\n",
    "        \"was the runner-up.\"\n",
    "    ])\n",
    "\n",
    "if __name__ == \"__main__\":\n",
    "    app.run(debug=True)"
   ]
  },
  {
   "cell_type": "markdown",
   "id": "a2d86995-e403-45e7-a14c-fed8e1a3e37c",
   "metadata": {},
   "source": [
    "# Functionalities\n",
    "#### a) View all countries that have ever won a World Cup:\n",
    "The Choropleth map shows the countries that has won the World Cup, hovering to the colored regions and \n",
    "it will also show the Country name.\n",
    "#### b) Select a country and view the number of times it has won the World Cup:\n",
    "The Choropleth map assigns color to countries that has won the World Cup and different colors according to the number of times the Country has won it, hovering to the colored regions and it will also show the Country name and total wins. \n",
    "#### c) Select a year when a World Cup was organized and view the winner and the runner-up:\n",
    "The dropdown menu allows the user to select a year the World Cup has been hosted, and displays it, bolding the Year, coloring the Winner in red and Runners-up in blue for better visability. "
   ]
  }
 ],
 "metadata": {
  "kernelspec": {
   "display_name": "Python 3 (ipykernel)",
   "language": "python",
   "name": "python3"
  },
  "language_info": {
   "codemirror_mode": {
    "name": "ipython",
    "version": 3
   },
   "file_extension": ".py",
   "mimetype": "text/x-python",
   "name": "python",
   "nbconvert_exporter": "python",
   "pygments_lexer": "ipython3",
   "version": "3.13.1"
  }
 },
 "nbformat": 4,
 "nbformat_minor": 5
}
